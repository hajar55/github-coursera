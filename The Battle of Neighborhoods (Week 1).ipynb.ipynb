{
 "cells": [
  {
   "cell_type": "markdown",
   "metadata": {},
   "source": [
    "Week 1 - The Battle of Neighborhoods"
   ]
  },
  {
   "cell_type": "markdown",
   "metadata": {},
   "source": [
    "1- Introduction/Business Problem"
   ]
  },
  {
   "cell_type": "markdown",
   "metadata": {},
   "source": [
    "\n",
    "The restaurant industry in London is growing exponentially, every street is filled with every variety of restaurant, fast food place and pub; every type of food is available from classic European cuisines, primarily Italian, Spanish and French, to more exotic foods originating from Asia or South America. Demand, in the culinary industry, has become extremely high and as a result so has extent of competition to open a restaurant or cafeteria in a supposedly ‘cool’ area of the city."
   ]
  },
  {
   "cell_type": "markdown",
   "metadata": {},
   "source": [
    "Manchester, brimming with almost 3 million people, this city is a hotspot for all things food and drink... and we're a hungry lot. Ranging from slick steak spots to laid back and affordable eats, all the way through to indulgent dens where you can splash the cash, we've rounded up the best restaurants in Manchester city centre."
   ]
  },
  {
   "cell_type": "markdown",
   "metadata": {},
   "source": [
    "This project has the purpose of comparing the Asian an European cuisines poles in relation to the quantity and characteristics of their restaurants in order to define which city is the best in terms of food experiences."
   ]
  },
  {
   "cell_type": "markdown",
   "metadata": {},
   "source": [
    "2- Data section"
   ]
  },
  {
   "cell_type": "markdown",
   "metadata": {},
   "source": [
    "To this project, we will use two csv files containing the main locations of the cities of London and Manchester. Each csv file contains 4 columns: ID, Name, Latitude and Longitude of the main points of the city."
   ]
  }
 ],
 "metadata": {
  "kernelspec": {
   "display_name": "Python",
   "language": "python",
   "name": "conda-env-python-py"
  },
  "language_info": {
   "codemirror_mode": {
    "name": "ipython",
    "version": 3
   },
   "file_extension": ".py",
   "mimetype": "text/x-python",
   "name": "python",
   "nbconvert_exporter": "python",
   "pygments_lexer": "ipython3",
   "version": "3.6.10"
  }
 },
 "nbformat": 4,
 "nbformat_minor": 4
}
